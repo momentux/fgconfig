{
 "cells": [
  {
   "cell_type": "code",
   "execution_count": 1,
   "metadata": {},
   "outputs": [
    {
     "name": "stderr",
     "output_type": "stream",
     "text": [
      "C:\\Users\\scl\\AppData\\Local\\Temp\\ipykernel_12128\\2762203860.py:1: DeprecationWarning: 'telnetlib' is deprecated and slated for removal in Python 3.13\n",
      "  import telnetlib\n"
     ]
    },
    {
     "ename": "ConnectionResetError",
     "evalue": "[WinError 10054] An existing connection was forcibly closed by the remote host",
     "output_type": "error",
     "traceback": [
      "\u001b[1;31m---------------------------------------------------------------------------\u001b[0m",
      "\u001b[1;31mConnectionResetError\u001b[0m                      Traceback (most recent call last)",
      "\u001b[1;32mc:\\Users\\scl\\FlightGear\\Targets.ipynb Cell 1\u001b[0m line \u001b[0;36m2\n\u001b[0;32m     <a href='vscode-notebook-cell:/c%3A/Users/scl/FlightGear/Targets.ipynb#W1sZmlsZQ%3D%3D?line=21'>22</a>\u001b[0m \u001b[39m# Send a command to update the target's position\u001b[39;00m\n\u001b[0;32m     <a href='vscode-notebook-cell:/c%3A/Users/scl/FlightGear/Targets.ipynb#W1sZmlsZQ%3D%3D?line=22'>23</a>\u001b[0m position_command \u001b[39m=\u001b[39m \u001b[39mf\u001b[39m\u001b[39m\"\u001b[39m\u001b[39mset /sim/flight-model/failures/targets/\u001b[39m\u001b[39m{\u001b[39;00mtarget_name\u001b[39m}\u001b[39;00m\u001b[39m/position-lat-lon-alt \u001b[39m\u001b[39m{\u001b[39;00mlatitude\u001b[39m}\u001b[39;00m\u001b[39m \u001b[39m\u001b[39m{\u001b[39;00mlongitude\u001b[39m}\u001b[39;00m\u001b[39m \u001b[39m\u001b[39m{\u001b[39;00maltitude\u001b[39m}\u001b[39;00m\u001b[39m\\n\u001b[39;00m\u001b[39m\"\u001b[39m\n\u001b[1;32m---> <a href='vscode-notebook-cell:/c%3A/Users/scl/FlightGear/Targets.ipynb#W1sZmlsZQ%3D%3D?line=23'>24</a>\u001b[0m tn\u001b[39m.\u001b[39;49mwrite(position_command\u001b[39m.\u001b[39;49mencode(\u001b[39m\"\u001b[39;49m\u001b[39mutf-8\u001b[39;49m\u001b[39m\"\u001b[39;49m))\n\u001b[0;32m     <a href='vscode-notebook-cell:/c%3A/Users/scl/FlightGear/Targets.ipynb#W1sZmlsZQ%3D%3D?line=25'>26</a>\u001b[0m \u001b[39m# Sleep for a short duration to control the update rate (adjust as needed)\u001b[39;00m\n\u001b[0;32m     <a href='vscode-notebook-cell:/c%3A/Users/scl/FlightGear/Targets.ipynb#W1sZmlsZQ%3D%3D?line=26'>27</a>\u001b[0m time\u001b[39m.\u001b[39msleep(\u001b[39m0.1\u001b[39m)\n",
      "File \u001b[1;32mC:\\Program Files\\WindowsApps\\PythonSoftwareFoundation.Python.3.11_3.11.1520.0_x64__qbz5n2kfra8p0\\Lib\\telnetlib.py:295\u001b[0m, in \u001b[0;36mTelnet.write\u001b[1;34m(self, buffer)\u001b[0m\n\u001b[0;32m    293\u001b[0m sys\u001b[39m.\u001b[39maudit(\u001b[39m\"\u001b[39m\u001b[39mtelnetlib.Telnet.write\u001b[39m\u001b[39m\"\u001b[39m, \u001b[39mself\u001b[39m, buffer)\n\u001b[0;32m    294\u001b[0m \u001b[39mself\u001b[39m\u001b[39m.\u001b[39mmsg(\u001b[39m\"\u001b[39m\u001b[39msend \u001b[39m\u001b[39m%r\u001b[39;00m\u001b[39m\"\u001b[39m, buffer)\n\u001b[1;32m--> 295\u001b[0m \u001b[39mself\u001b[39;49m\u001b[39m.\u001b[39;49msock\u001b[39m.\u001b[39;49msendall(buffer)\n",
      "\u001b[1;31mConnectionResetError\u001b[0m: [WinError 10054] An existing connection was forcibly closed by the remote host"
     ]
    }
   ],
   "source": [
    "import telnetlib\n",
    "import time\n",
    "\n",
    "# Connect to FlightGear via Telnet\n",
    "host = \"localhost\"\n",
    "port = 5400  # Default FlightGear Telnet port\n",
    "tn = telnetlib.Telnet(host, port)\n",
    "\n",
    "# Define the target name and initial position\n",
    "target_name = \"dynamic_target\"\n",
    "altitude = 10000\n",
    "latitude = 12.58\n",
    "longitude = 77.35\n",
    "\n",
    "# Update the target's position and properties in a loop\n",
    "while True:\n",
    "    # Calculate new position and properties (for example, based on time or other factors)\n",
    "    # Here, we'll simulate a simple movement by incrementing the latitude and longitude\n",
    "    latitude += 0.001\n",
    "    longitude += 0.001\n",
    "\n",
    "    # Send a command to update the target's position\n",
    "    position_command = f\"set /sim/flight-model/failures/targets/{target_name}/position-lat-lon-alt {latitude} {longitude} {altitude}\\n\"\n",
    "    tn.write(position_command.encode(\"utf-8\"))\n",
    "\n",
    "    # Sleep for a short duration to control the update rate (adjust as needed)\n",
    "    time.sleep(0.1)\n",
    "\n",
    "# Close the Telnet connection (this will not be reached in the example)\n",
    "tn.close()"
   ]
  }
 ],
 "metadata": {
  "kernelspec": {
   "display_name": "Python 3",
   "language": "python",
   "name": "python3"
  },
  "language_info": {
   "codemirror_mode": {
    "name": "ipython",
    "version": 3
   },
   "file_extension": ".py",
   "mimetype": "text/x-python",
   "name": "python",
   "nbconvert_exporter": "python",
   "pygments_lexer": "ipython3",
   "version": "3.11.0"
  },
  "orig_nbformat": 4
 },
 "nbformat": 4,
 "nbformat_minor": 2
}
